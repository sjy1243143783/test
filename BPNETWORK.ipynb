{
 "cells": [
  {
   "cell_type": "code",
   "execution_count": 59,
   "metadata": {},
   "outputs": [],
   "source": [
    "import numpy as np\n",
    "import pandas as pd\n"
   ]
  },
  {
   "cell_type": "code",
   "execution_count": 62,
   "metadata": {},
   "outputs": [],
   "source": [
    "# 1.初始化参数\n",
    "def initialize_parameters(n_x, n_z, n_y):\n",
    "    np.random.seed(2)\n",
    "\n",
    "    # 权重和偏置矩阵\n",
    "    w1 = np.random.randn(n_z, n_x) * 0.01\n",
    "    b1 = np.zeros(shape=(n_z, 1))\n",
    "    w2 = np.random.randn(n_y, n_z) * 0.01\n",
    "    b2 = np.zeros(shape=(n_y, 1))\n",
    "\n",
    "    # 通过字典存储参数\n",
    "    parameters = {'w1': w1, 'b1': b1, 'w2': w2, 'b2': b2}\n",
    "\n",
    "    return parameters"
   ]
  },
  {
   "cell_type": "code",
   "execution_count": 63,
   "metadata": {},
   "outputs": [],
   "source": [
    "#定义Sigmoid函数\n",
    "def sigmoid(x):\n",
    "    return 1.0 / (1.0+np.exp(-x))"
   ]
  },
  {
   "cell_type": "code",
   "execution_count": 64,
   "metadata": {},
   "outputs": [],
   "source": [
    "# 2.前向传播\n",
    "def forward_propagation(X, parameters):\n",
    "    w1 = parameters['w1']\n",
    "    b1 = parameters['b1']\n",
    "    w2 = parameters['w2']\n",
    "    b2 = parameters['b2']\n",
    "\n",
    "    # 通过前向传播来计算a2\n",
    "    z1 = np.dot(w1, X) + b1     # 这个地方需注意矩阵加法：虽然(w1*X)和b1的维度不同，但可以相加\n",
    "    a1 = sigmoid(z1)            # 使用sigmoid作为第一层的激活函数\n",
    "    z2 = np.dot(w2, a1) + b2\n",
    "    a2 = sigmoid(z2)  # 使用sigmoid作为第二层的激活函数\n",
    "\n",
    "    # 通过字典存储参数\n",
    "    cache = {'z1': z1, 'a1': a1, 'z2': z2, 'a2': a2}\n",
    "\n",
    "    return a2, cache\n"
   ]
  },
  {
   "cell_type": "code",
   "execution_count": 65,
   "metadata": {},
   "outputs": [],
   "source": [
    "\n",
    "# 3.反向传播\n",
    "def backward_propagation(parameters, cache, X, Y):\n",
    "    m = Y.shape[1]\n",
    "\n",
    "    w1 = parameters['w1']\n",
    "    w2 = parameters['w2']\n",
    "\n",
    "    a1 = cache['a1']\n",
    "    a2 = cache['a2']\n",
    "\n",
    "    # 反向传播，计算dw1、db1、dw2、db2\n",
    "    dz2 = a2 - Y\n",
    "    dw2 = (1 / m) * np.dot(dz2, a1.T)\n",
    "    db2 = (1 / m) * np.sum(dz2, axis=1, keepdims=True)\n",
    "    dz1 = np.multiply(np.dot(w2.T, dz2), 1 - np.power(a1, 2))\n",
    "    dw1 = (1 / m) * np.dot(dz1, X.T)\n",
    "    db1 = (1 / m) * np.sum(dz1, axis=1, keepdims=True)\n",
    "\n",
    "    grads = {'dw1': dw1, 'db1': db1, 'dw2': dw2, 'db2': db2}\n",
    "\n",
    "    return grads\n"
   ]
  },
  {
   "cell_type": "code",
   "execution_count": 66,
   "metadata": {},
   "outputs": [],
   "source": [
    "# 4.更新参数\n",
    "def update_parameters(parameters, grads, learning_rate=0.8):\n",
    "    w1 = parameters['w1']\n",
    "    b1 = parameters['b1']\n",
    "    w2 = parameters['w2']\n",
    "    b2 = parameters['b2']\n",
    "\n",
    "    dw1 = grads['dw1']\n",
    "    db1 = grads['db1']\n",
    "    dw2 = grads['dw2']\n",
    "    db2 = grads['db2']\n",
    "\n",
    "    # 更新参数\n",
    "    w1 = w1 - dw1 * learning_rate\n",
    "    b1 = b1 - db1 * learning_rate\n",
    "    w2 = w2 - dw2 * learning_rate\n",
    "    b2 = b2 - db2 * learning_rate\n",
    "\n",
    "    parameters = {'w1': w1, 'b1': b1, 'w2': w2, 'b2': b2}\n",
    "\n",
    "    return parameters\n",
    "\n"
   ]
  },
  {
   "cell_type": "code",
   "execution_count": 67,
   "metadata": {},
   "outputs": [],
   "source": [
    "\n",
    "# 建立神经网络\n",
    "def nn_model(X, Y, n_h, n_input, n_output, num_iterations=10000):\n",
    "    np.random.seed(3)\n",
    "\n",
    "    n_x = n_input           # 输入层节点数\n",
    "    n_y = n_output          # 输出层节点数\n",
    "\n",
    "    # 1.初始化参数\n",
    "    parameters = initialize_parameters(n_x, n_h, n_y)\n",
    "\n",
    "    # 梯度下降循环\n",
    "    for i in range(0, num_iterations):\n",
    "        # 2.前向传播\n",
    "        a2, cache = forward_propagation(X, parameters)\n",
    "\n",
    "        # 4.反向传播\n",
    "        grads = backward_propagation(parameters, cache, X, Y)\n",
    "        # 5.更新参数\n",
    "        parameters = update_parameters(parameters, grads)\n",
    "   \n",
    "       \n",
    "    return parameters\n"
   ]
  },
  {
   "cell_type": "code",
   "execution_count": 68,
   "metadata": {},
   "outputs": [],
   "source": [
    "# 对模型进行测试\n",
    "def predict(parameters, x_test, y_test):\n",
    "    w1 = parameters['w1']\n",
    "    b1 = parameters['b1']\n",
    "    w2 = parameters['w2']\n",
    "    b2 = parameters['b2']\n",
    "\n",
    "    z1 = np.dot(w1, x_test) + b1\n",
    "    a1 = np.tanh(z1)\n",
    "    z2 = np.dot(w2, a1) + b2\n",
    "    a2 = 1 / (1 + np.exp(-z2))\n",
    "\n",
    "    # 结果的维度\n",
    "    n_rows = y_test.shape[0]\n",
    "    n_cols = y_test.shape[1]\n",
    "\n",
    "    # 预测值结果存储\n",
    "    output = np.empty(shape=(n_rows, n_cols), dtype=int)\n",
    "\n",
    "    for i in range(n_rows):\n",
    "        for j in range(n_cols):\n",
    "            if a2[i][j] > 0.5:\n",
    "                output[i][j] = 1\n",
    "            else:\n",
    "                output[i][j] = 0\n",
    "\n",
    "    print('预测结果：')\n",
    "    print(output)\n",
    "    print('真实结果：')\n",
    "    print(y_test)\n",
    "\n",
    "    count = 0\n",
    "    for k in range(0, n_cols):\n",
    "        if output[0][k] == y_test[0][k] and output[1][k] == y_test[1][k] and output[2][k] == y_test[2][k]:\n",
    "            count = count + 1\n",
    "        else:\n",
    "            print(k)\n",
    "\n",
    "    acc = count / int(y_test.shape[1]) * 100\n",
    "    print('准确率：%.2f%%' % acc)\n",
    "\n",
    "\n",
    "    acc = count / int(y_test.shape[1]) * 100\n",
    "    print('准确率：%.2f%%' % acc)\n",
    "\t\n",
    "   "
   ]
  },
  {
   "cell_type": "code",
   "execution_count": 69,
   "metadata": {},
   "outputs": [
    {
     "name": "stderr",
     "output_type": "stream",
     "text": [
      "C:\\Users\\沈君君\\AppData\\Local\\Temp\\ipykernel_30728\\418872950.py:3: RuntimeWarning: overflow encountered in exp\n",
      "  return 1.0 / (1.0+np.exp(-x))\n"
     ]
    },
    {
     "name": "stdout",
     "output_type": "stream",
     "text": [
      "预测结果：\n",
      "[[0 0 1 0 0 0 1 0 0 0 0 1 0 0 0 1 0 1 1 0 1 0 0 0 0 0 1 0 0 0]\n",
      " [1 0 0 1 1 1 0 1 1 0 0 0 0 1 1 0 1 0 0 0 0 1 0 1 1 1 0 1 0 1]\n",
      " [0 1 0 0 0 0 0 0 0 1 1 0 1 0 0 0 0 0 0 1 0 0 1 0 0 0 0 0 1 0]]\n",
      "真实结果：\n",
      "[[0 0 1 0 0 0 1 0 0 0 0 1 0 0 0 1 0 1 1 0 1 0 0 0 0 0 1 0 0 0]\n",
      " [1 0 0 1 1 1 0 0 1 0 0 0 0 1 1 0 1 0 0 0 0 1 0 1 1 1 0 1 0 1]\n",
      " [0 1 0 0 0 0 0 1 0 1 1 0 1 0 0 0 0 0 0 1 0 0 1 0 0 0 0 0 1 0]]\n",
      "7\n",
      "准确率：96.67%\n",
      "准确率：96.67%\n"
     ]
    }
   ],
   "source": [
    "if __name__ == \"__main__\":\n",
    "    # 读取数据\n",
    "    data_set = pd.read_csv(r'E:\\Jupyter_notebooks\\data\\iris_training1.csv',header=None)\n",
    "    X = data_set.iloc[:, 0:4].values.T          # 前四列是特征，T表示转置\n",
    "    Y = data_set.iloc[:, 4:].values.T           # 后三列是标签\n",
    "\n",
    "    Y = Y.astype('uint8')\n",
    " \n",
    "    #开始训练\n",
    "    parameters = nn_model(X, Y, n_h=6, n_input=4, n_output=3, num_iterations=10000)\n",
    "  \n",
    "    # 对模型进行测试\n",
    "    data_test = pd.read_csv(r'E:\\Jupyter_notebooks\\data\\iris_test1.csv',header=None)\n",
    "    x_test = data_test.iloc[:, 0:4].values.T\n",
    "    y_test = data_test.iloc[:, 4:].values.T\n",
    "    y_test = y_test.astype('uint8')\n",
    "\n",
    "    result = predict(parameters, x_test, y_test)"
   ]
  },
  {
   "cell_type": "code",
   "execution_count": null,
   "metadata": {},
   "outputs": [],
   "source": []
  },
  {
   "cell_type": "code",
   "execution_count": null,
   "metadata": {},
   "outputs": [],
   "source": []
  }
 ],
 "metadata": {
  "kernelspec": {
   "display_name": "Python 3.9.15 ('base')",
   "language": "python",
   "name": "python3"
  },
  "language_info": {
   "codemirror_mode": {
    "name": "ipython",
    "version": 3
   },
   "file_extension": ".py",
   "mimetype": "text/x-python",
   "name": "python",
   "nbconvert_exporter": "python",
   "pygments_lexer": "ipython3",
   "version": "3.9.15"
  },
  "orig_nbformat": 4,
  "vscode": {
   "interpreter": {
    "hash": "7758e92e9a61d7a3490898707f7eeb937c85e9d1e8d4e877cc6c187218f226d5"
   }
  }
 },
 "nbformat": 4,
 "nbformat_minor": 2
}
