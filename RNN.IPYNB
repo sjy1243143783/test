{
 "cells": [
  {
   "cell_type": "code",
   "execution_count": 2,
   "metadata": {},
   "outputs": [],
   "source": [
    "import numpy as np\n",
    "\n",
    "class RNN:\n",
    "    def __init__(self, input_dim, hidden_dim, output_dim):\n",
    "        self.input_dim = input_dim\n",
    "        self.hidden_dim = hidden_dim\n",
    "        self.output_dim = output_dim\n",
    "        \n",
    "        # 初始化权重和偏差\n",
    "        self.W_h = np.random.randn(hidden_dim, hidden_dim)\n",
    "        self.W_x = np.random.randn(input_dim, hidden_dim)\n",
    "        self.W_y = np.random.randn(hidden_dim, output_dim)\n",
    "        self.b_h = np.zeros((1, hidden_dim))\n",
    "        self.b_y = np.zeros((1, output_dim))\n",
    "        \n",
    "    def forward(self, x):\n",
    "        # 计算隐藏状态\n",
    "        self.h = np.zeros((1, self.hidden_dim))\n",
    "        self.hidden_states = []\n",
    "        for t in range(len(x)):\n",
    "            self.h = np.tanh(np.dot(x[t], self.W_x) + np.dot(self.h, self.W_h) + self.b_h)\n",
    "            self.hidden_states.append(self.h)\n",
    "        \n",
    "        # 计算输出\n",
    "        self.y = np.dot(self.h, self.W_y) + self.b_y\n",
    "        return self.y\n",
    "    \n",
    "    def backward(self, x, y_true, learning_rate):\n",
    "        # 计算输出误差\n",
    "        d_y = y_true - self.y\n",
    "        \n",
    "        # 计算隐藏状态误差\n",
    "        d_h = np.zeros((1, self.hidden_dim))\n",
    "        d_W_y = np.zeros_like(self.W_y)\n",
    "        d_W_h = np.zeros_like(self.W_h)\n",
    "        d_W_x = np.zeros_like(self.W_x)\n",
    "        d_b_y = np.zeros_like(self.b_y)\n",
    "        d_b_h = np.zeros_like(self.b_h)\n",
    "        for t in reversed(range(len(x))):\n",
    "            d_W_y += np.outer(self.hidden_states[t], d_y)\n",
    "            d_b_y += d_y\n",
    "            d_h = np.dot(d_y, self.W_y.T) + np.dot(d_h, self.W_h.T)\n",
    "            d_h_raw = (1 - self.hidden_states[t] ** 2) * d_h\n",
    "            d_W_x += np.outer(x[t], d_h_raw)\n",
    "            d_W_h += np.outer(self.hidden_states[t-1], d_h_raw)\n",
    "            d_b_h += d_h_raw\n",
    "            \n",
    "        # 更新权重和偏差\n",
    "        self.W_h -= learning_rate * d_W_h\n",
    "        self.W_x -= learning_rate * d_W_x\n",
    "        self.W_y -= learning_rate * d_W_y\n",
    "        self.b_h -= learning_rate * d_b_h\n",
    "        self.b_y -= learning_rate * d_b_y\n"
   ]
  },
  {
   "cell_type": "code",
   "execution_count": null,
   "metadata": {},
   "outputs": [],
   "source": []
  }
 ],
 "metadata": {
  "kernelspec": {
   "display_name": "Python 3.9.15 ('base')",
   "language": "python",
   "name": "python3"
  },
  "language_info": {
   "codemirror_mode": {
    "name": "ipython",
    "version": 3
   },
   "file_extension": ".py",
   "mimetype": "text/x-python",
   "name": "python",
   "nbconvert_exporter": "python",
   "pygments_lexer": "ipython3",
   "version": "3.9.15"
  },
  "orig_nbformat": 4,
  "vscode": {
   "interpreter": {
    "hash": "7758e92e9a61d7a3490898707f7eeb937c85e9d1e8d4e877cc6c187218f226d5"
   }
  }
 },
 "nbformat": 4,
 "nbformat_minor": 2
}
