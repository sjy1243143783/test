{
 "cells": [
  {
   "cell_type": "code",
   "execution_count": 1,
   "metadata": {},
   "outputs": [
    {
     "name": "stdout",
     "output_type": "stream",
     "text": [
      "Epoch 1/10\n",
      "25/25 [==============================] - 1s 13ms/step - loss: 0.6949 - accuracy: 0.5075 - val_loss: 0.6926 - val_accuracy: 0.4900\n",
      "Epoch 2/10\n",
      "25/25 [==============================] - 0s 3ms/step - loss: 0.6935 - accuracy: 0.5125 - val_loss: 0.6960 - val_accuracy: 0.5150\n",
      "Epoch 3/10\n",
      "25/25 [==============================] - 0s 3ms/step - loss: 0.6911 - accuracy: 0.5487 - val_loss: 0.6971 - val_accuracy: 0.5100\n",
      "Epoch 4/10\n",
      "25/25 [==============================] - 0s 5ms/step - loss: 0.6906 - accuracy: 0.5288 - val_loss: 0.6988 - val_accuracy: 0.4750\n",
      "Epoch 5/10\n",
      "25/25 [==============================] - 0s 3ms/step - loss: 0.6892 - accuracy: 0.5462 - val_loss: 0.7016 - val_accuracy: 0.4750\n",
      "Epoch 6/10\n",
      "25/25 [==============================] - 0s 3ms/step - loss: 0.6889 - accuracy: 0.5362 - val_loss: 0.7017 - val_accuracy: 0.4900\n",
      "Epoch 7/10\n",
      "25/25 [==============================] - 0s 3ms/step - loss: 0.6893 - accuracy: 0.5288 - val_loss: 0.7031 - val_accuracy: 0.4850\n",
      "Epoch 8/10\n",
      "25/25 [==============================] - 0s 3ms/step - loss: 0.6890 - accuracy: 0.5425 - val_loss: 0.7028 - val_accuracy: 0.4700\n",
      "Epoch 9/10\n",
      "25/25 [==============================] - 0s 3ms/step - loss: 0.6881 - accuracy: 0.5387 - val_loss: 0.7052 - val_accuracy: 0.4750\n",
      "Epoch 10/10\n",
      "25/25 [==============================] - 0s 3ms/step - loss: 0.6888 - accuracy: 0.5450 - val_loss: 0.7030 - val_accuracy: 0.4700\n"
     ]
    },
    {
     "data": {
      "text/plain": [
       "<keras.callbacks.History at 0x2513a495970>"
      ]
     },
     "execution_count": 1,
     "metadata": {},
     "output_type": "execute_result"
    }
   ],
   "source": [
    "from keras.models import Sequential\n",
    "from keras.layers import Dense, SimpleRNN\n",
    "import numpy as np\n",
    "\n",
    "# 定义输入序列的长度和特征数\n",
    "sequence_length = 10\n",
    "input_features = 1\n",
    "\n",
    "# 创建数据集\n",
    "data = np.random.rand(1000, sequence_length, input_features)\n",
    "\n",
    "# 定义SimpleRNN模型\n",
    "model = Sequential()\n",
    "model.add(SimpleRNN(32, input_shape=(sequence_length, input_features)))\n",
    "model.add(Dense(1, activation='sigmoid'))\n",
    "\n",
    "# 编译模型\n",
    "model.compile(optimizer='adam', loss='binary_crossentropy', metrics=['accuracy'])\n",
    "\n",
    "# 训练模型\n",
    "model.fit(data, np.random.randint(2, size=(1000, 1)), epochs=10, batch_size=32, validation_split=0.2)\n"
   ]
  },
  {
   "cell_type": "code",
   "execution_count": 2,
   "metadata": {},
   "outputs": [
    {
     "name": "stdout",
     "output_type": "stream",
     "text": [
      "Epoch 1/10\n",
      "25/25 [==============================] - 3s 22ms/step - loss: 0.6950 - accuracy: 0.4725 - val_loss: 0.6939 - val_accuracy: 0.4750\n",
      "Epoch 2/10\n",
      "25/25 [==============================] - 0s 4ms/step - loss: 0.6931 - accuracy: 0.5175 - val_loss: 0.6966 - val_accuracy: 0.4750\n",
      "Epoch 3/10\n",
      "25/25 [==============================] - 0s 4ms/step - loss: 0.6934 - accuracy: 0.5175 - val_loss: 0.6946 - val_accuracy: 0.4750\n",
      "Epoch 4/10\n",
      "25/25 [==============================] - 0s 4ms/step - loss: 0.6935 - accuracy: 0.5175 - val_loss: 0.6956 - val_accuracy: 0.4750\n",
      "Epoch 5/10\n",
      "25/25 [==============================] - 0s 4ms/step - loss: 0.6931 - accuracy: 0.5175 - val_loss: 0.6942 - val_accuracy: 0.4750\n",
      "Epoch 6/10\n",
      "25/25 [==============================] - 0s 4ms/step - loss: 0.6932 - accuracy: 0.5175 - val_loss: 0.6948 - val_accuracy: 0.4750\n",
      "Epoch 7/10\n",
      "25/25 [==============================] - 0s 4ms/step - loss: 0.6933 - accuracy: 0.5175 - val_loss: 0.6941 - val_accuracy: 0.4750\n",
      "Epoch 8/10\n",
      "25/25 [==============================] - 0s 4ms/step - loss: 0.6933 - accuracy: 0.5175 - val_loss: 0.6955 - val_accuracy: 0.4750\n",
      "Epoch 9/10\n",
      "25/25 [==============================] - 0s 4ms/step - loss: 0.6930 - accuracy: 0.5175 - val_loss: 0.6949 - val_accuracy: 0.4750\n",
      "Epoch 10/10\n",
      "25/25 [==============================] - 0s 4ms/step - loss: 0.6932 - accuracy: 0.5175 - val_loss: 0.6953 - val_accuracy: 0.4750\n"
     ]
    },
    {
     "data": {
      "text/plain": [
       "<keras.callbacks.History at 0x2513d9627f0>"
      ]
     },
     "execution_count": 2,
     "metadata": {},
     "output_type": "execute_result"
    }
   ],
   "source": [
    "from keras.models import Sequential\n",
    "from keras.layers import Dense, LSTM\n",
    "import numpy as np\n",
    "\n",
    "# 定义输入序列的长度和特征数\n",
    "sequence_length = 10\n",
    "input_features = 1\n",
    "\n",
    "# 创建数据集\n",
    "data = np.random.rand(1000, sequence_length, input_features)\n",
    "\n",
    "# 定义LSTM模型\n",
    "model = Sequential()\n",
    "model.add(LSTM(32, input_shape=(sequence_length, input_features)))\n",
    "model.add(Dense(1, activation='sigmoid'))\n",
    "\n",
    "# 编译模型\n",
    "model.compile(optimizer='adam', loss='binary_crossentropy', metrics=['accuracy'])\n",
    "\n",
    "# 训练模型\n",
    "model.fit(data, np.random.randint(2, size=(1000, 1)), epochs=10, batch_size=32, validation_split=0.2)\n"
   ]
  },
  {
   "cell_type": "code",
   "execution_count": null,
   "metadata": {},
   "outputs": [],
   "source": []
  }
 ],
 "metadata": {
  "kernelspec": {
   "display_name": "Python 3.9.15 ('base')",
   "language": "python",
   "name": "python3"
  },
  "language_info": {
   "codemirror_mode": {
    "name": "ipython",
    "version": 3
   },
   "file_extension": ".py",
   "mimetype": "text/x-python",
   "name": "python",
   "nbconvert_exporter": "python",
   "pygments_lexer": "ipython3",
   "version": "3.9.15"
  },
  "orig_nbformat": 4,
  "vscode": {
   "interpreter": {
    "hash": "7758e92e9a61d7a3490898707f7eeb937c85e9d1e8d4e877cc6c187218f226d5"
   }
  }
 },
 "nbformat": 4,
 "nbformat_minor": 2
}
